{
 "cells": [
  {
   "cell_type": "code",
   "execution_count": 2,
   "metadata": {},
   "outputs": [
    {
     "name": "stderr",
     "output_type": "stream",
     "text": [
      "/usr/local/lib/python3.6/site-packages/pymatgen/io/cif.py:1101: UserWarning: Issues encountered while parsing CIF: Some fractional co-ordinates rounded to ideal values to avoid issues with finite precision.\n",
      "  warnings.warn(\"Issues encountered while parsing CIF: %s\" % \"\\n\".join(self.warnings))\n"
     ]
    },
    {
     "data": {
      "text/html": [
       "<div>\n",
       "<style scoped>\n",
       "    .dataframe tbody tr th:only-of-type {\n",
       "        vertical-align: middle;\n",
       "    }\n",
       "\n",
       "    .dataframe tbody tr th {\n",
       "        vertical-align: top;\n",
       "    }\n",
       "\n",
       "    .dataframe thead th {\n",
       "        text-align: right;\n",
       "    }\n",
       "</style>\n",
       "<table border=\"1\" class=\"dataframe\">\n",
       "  <thead>\n",
       "    <tr style=\"text-align: right;\">\n",
       "      <th></th>\n",
       "      <th>File name</th>\n",
       "      <th>node num</th>\n",
       "      <th>space group</th>\n",
       "      <th>crystal system</th>\n",
       "    </tr>\n",
       "  </thead>\n",
       "  <tbody>\n",
       "    <tr>\n",
       "      <th>0</th>\n",
       "      <td>./cif-for-eda/1006888.cif</td>\n",
       "      <td>4</td>\n",
       "      <td>166</td>\n",
       "      <td>trigonal</td>\n",
       "    </tr>\n",
       "    <tr>\n",
       "      <th>1</th>\n",
       "      <td>./cif-for-eda/1008680.cif</td>\n",
       "      <td>3</td>\n",
       "      <td>216</td>\n",
       "      <td>cubic</td>\n",
       "    </tr>\n",
       "    <tr>\n",
       "      <th>2</th>\n",
       "      <td>./cif-for-eda/1008858.cif</td>\n",
       "      <td>3</td>\n",
       "      <td>216</td>\n",
       "      <td>cubic</td>\n",
       "    </tr>\n",
       "    <tr>\n",
       "      <th>3</th>\n",
       "      <td>./cif-for-eda/1006322.cif</td>\n",
       "      <td>18</td>\n",
       "      <td>86</td>\n",
       "      <td>tetragonal</td>\n",
       "    </tr>\n",
       "    <tr>\n",
       "      <th>4</th>\n",
       "      <td>./cif-for-eda/1003314.cif</td>\n",
       "      <td>7</td>\n",
       "      <td>2</td>\n",
       "      <td>triclinic</td>\n",
       "    </tr>\n",
       "  </tbody>\n",
       "</table>\n",
       "</div>"
      ],
      "text/plain": [
       "                   File name  node num  space group crystal system\n",
       "0  ./cif-for-eda/1006888.cif         4          166       trigonal\n",
       "1  ./cif-for-eda/1008680.cif         3          216          cubic\n",
       "2  ./cif-for-eda/1008858.cif         3          216          cubic\n",
       "3  ./cif-for-eda/1006322.cif        18           86     tetragonal\n",
       "4  ./cif-for-eda/1003314.cif         7            2      triclinic"
      ]
     },
     "execution_count": 2,
     "metadata": {},
     "output_type": "execute_result"
    }
   ],
   "source": [
    "import glob\n",
    "import numpy as np\n",
    "import pandas as pd\n",
    "from pymatgen.core.structure import Structure\n",
    "from pymatgen.symmetry.analyzer import SpacegroupAnalyzer\n",
    "from pymatgen.analysis.structure_analyzer import VoronoiConnectivity\n",
    "\n",
    "files = glob.glob(\"./cif-for-eda/*.cif\")\n",
    "\n",
    "node_num = []\n",
    "space_group = []\n",
    "crystal_system = []\n",
    "\n",
    "for file in files:\n",
    "    crystal = Structure.from_file(file)\n",
    "    # node number \n",
    "    node_num.append(len(crystal))\n",
    "    # space group number \n",
    "    finder = SpacegroupAnalyzer(crystal)\n",
    "    space_group.append(finder.get_space_group_number())\n",
    "    # get_crystal_system\n",
    "    crystal_system.append(finder.get_crystal_system())\n",
    "    \n",
    "data_dict = {\n",
    "    'File name': files, \n",
    "    'node num': node_num, \n",
    "    'space group': space_group, \n",
    "    'crystal system': crystal_system\n",
    "}\n",
    "\n",
    "df = pd.DataFrame(data=data_dict)\n",
    "df.head()"
   ]
  },
  {
   "cell_type": "code",
   "execution_count": 8,
   "metadata": {},
   "outputs": [
    {
     "data": {
      "text/plain": [
       "array([[<matplotlib.axes._subplots.AxesSubplot object at 0x7f5a2b93cba8>,\n",
       "        <matplotlib.axes._subplots.AxesSubplot object at 0x7f5a2b8fce48>],\n",
       "       [<matplotlib.axes._subplots.AxesSubplot object at 0x7f5a2b8ad2e8>,\n",
       "        <matplotlib.axes._subplots.AxesSubplot object at 0x7f5a2b8d4860>]],\n",
       "      dtype=object)"
      ]
     },
     "execution_count": 8,
     "metadata": {},
     "output_type": "execute_result"
    },
    {
     "data": {
      "image/png": "[encoded data removed]",
      "text/plain": [
       "<Figure size 1440x720 with 4 Axes>"
      ]
     },
     "metadata": {
      "needs_background": "light"
     },
     "output_type": "display_data"
    }
   ],
   "source": [
    "%matplotlib inline\n",
    "import seaborn as sns\n",
    "\n",
    "from pandas.plotting import scatter_matrix\n",
    "x = scatter_matrix(df, alpha=1, figsize=(20, 10), diagonal='hist')\n",
    "x"
   ]
  },
  {
   "cell_type": "code",
   "execution_count": 4,
   "metadata": {},
   "outputs": [
    {
     "name": "stderr",
     "output_type": "stream",
     "text": [
      "/usr/local/lib/python3.6/site-packages/matplotlib/font_manager.py:1241: UserWarning: findfont: Font family ['sans-serif'] not found. Falling back to DejaVu Sans.\n",
      "  (prop.get_family(), self.defaultFamily[fontext]))\n",
      "/usr/local/lib/python3.6/site-packages/matplotlib/font_manager.py:1241: UserWarning: findfont: Font family ['sans-serif'] not found. Falling back to DejaVu Sans.\n",
      "  (prop.get_family(), self.defaultFamily[fontext]))\n"
     ]
    }
   ],
   "source": [
    "import pandas_profiling as pdp\n",
    "\n",
    "profile = pdp.ProfileReport(df)\n",
    "profile.to_file(\"eda.html\")"
   ]
  }
 ],
 "metadata": {
  "kernelspec": {
   "display_name": "Python 3",
   "language": "python",
   "name": "python3"
  },
  "language_info": {
   "codemirror_mode": {
    "name": "ipython",
    "version": 3
   },
   "file_extension": ".py",
   "mimetype": "text/x-python",
   "name": "python",
   "nbconvert_exporter": "python",
   "pygments_lexer": "ipython3",
   "version": "3.6.8"
  }
 },
 "nbformat": 4,
 "nbformat_minor": 4
}
